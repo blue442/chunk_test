{
 "cells": [
  {
   "cell_type": "code",
   "execution_count": 2,
   "id": "2b1fdbf0",
   "metadata": {},
   "outputs": [
    {
     "name": "stdout",
     "output_type": "stream",
     "text": [
      "Package            Version\n",
      "------------------ -----------\n",
      "boto3              1.40.28\n",
      "botocore           1.40.28\n",
      "branca             0.8.1\n",
      "certifi            2025.4.26\n",
      "charset-normalizer 3.4.2\n",
      "contourpy          1.3.2\n",
      "cycler             0.12.1\n",
      "folium             0.20.0\n",
      "fonttools          4.58.4\n",
      "idna               3.10\n",
      "Jinja2             3.1.6\n",
      "jmespath           1.0.1\n",
      "joblib             1.5.1\n",
      "kiwisolver         1.4.8\n",
      "mapclassify        2.9.0\n",
      "MarkupSafe         3.0.2\n",
      "matplotlib         3.10.3\n",
      "networkx           3.5\n",
      "numpy              2.3.1\n",
      "packaging          25.0\n",
      "pandas             2.3.0\n",
      "pillow             11.2.1\n",
      "pip                24.0\n",
      "pyparsing          3.2.3\n",
      "python-dateutil    2.9.0.post0\n",
      "pytz               2025.2\n",
      "requests           2.32.4\n",
      "s3transfer         0.14.0\n",
      "scikit-learn       1.7.0\n",
      "scipy              1.16.0\n",
      "six                1.17.0\n",
      "threadpoolctl      3.6.0\n",
      "tzdata             2025.2\n",
      "urllib3            2.5.0\n",
      "xyzservices        2025.4.0\n",
      "\n",
      "\u001b[1m[\u001b[0m\u001b[34;49mnotice\u001b[0m\u001b[1;39;49m]\u001b[0m\u001b[39;49m A new release of pip is available: \u001b[0m\u001b[31;49m24.0\u001b[0m\u001b[39;49m -> \u001b[0m\u001b[32;49m25.2\u001b[0m\n",
      "\u001b[1m[\u001b[0m\u001b[34;49mnotice\u001b[0m\u001b[1;39;49m]\u001b[0m\u001b[39;49m To update, run: \u001b[0m\u001b[32;49mpip3 install --upgrade pip\u001b[0m\n"
     ]
    }
   ],
   "source": [
    "!pip3 list"
   ]
  },
  {
   "cell_type": "code",
   "execution_count": 10,
   "id": "97627f71",
   "metadata": {},
   "outputs": [
    {
     "name": "stdout",
     "output_type": "stream",
     "text": [
      "Defaulting to user installation because normal site-packages is not writeable\n",
      "Requirement already satisfied: boto3 in /Users/stevenwangen/Library/Python/3.12/lib/python/site-packages (1.40.28)\n",
      "Requirement already satisfied: botocore<1.41.0,>=1.40.28 in /Users/stevenwangen/Library/Python/3.12/lib/python/site-packages (from boto3) (1.40.28)\n",
      "Requirement already satisfied: jmespath<2.0.0,>=0.7.1 in /Users/stevenwangen/Library/Python/3.12/lib/python/site-packages (from boto3) (1.0.1)\n",
      "Requirement already satisfied: s3transfer<0.15.0,>=0.14.0 in /Users/stevenwangen/Library/Python/3.12/lib/python/site-packages (from boto3) (0.14.0)\n",
      "Requirement already satisfied: python-dateutil<3.0.0,>=2.1 in /Users/stevenwangen/Library/Python/3.12/lib/python/site-packages (from botocore<1.41.0,>=1.40.28->boto3) (2.9.0.post0)\n",
      "Requirement already satisfied: urllib3!=2.2.0,<3,>=1.25.4 in /Users/stevenwangen/Library/Python/3.12/lib/python/site-packages (from botocore<1.41.0,>=1.40.28->boto3) (2.5.0)\n",
      "Requirement already satisfied: six>=1.5 in /Users/stevenwangen/Library/Python/3.12/lib/python/site-packages (from python-dateutil<3.0.0,>=2.1->botocore<1.41.0,>=1.40.28->boto3) (1.17.0)\n"
     ]
    }
   ],
   "source": [
    "!pip3 install --upgrade boto3"
   ]
  },
  {
   "cell_type": "code",
   "execution_count": 5,
   "id": "5e23fec6",
   "metadata": {},
   "outputs": [
    {
     "ename": "ModuleNotFoundError",
     "evalue": "No module named 'boto3'",
     "output_type": "error",
     "traceback": [
      "\u001b[31m---------------------------------------------------------------------------\u001b[39m",
      "\u001b[31mModuleNotFoundError\u001b[39m                       Traceback (most recent call last)",
      "\u001b[36mCell\u001b[39m\u001b[36m \u001b[39m\u001b[32mIn[5]\u001b[39m\u001b[32m, line 1\u001b[39m\n\u001b[32m----> \u001b[39m\u001b[32m1\u001b[39m \u001b[38;5;28;01mimport\u001b[39;00m\u001b[38;5;250m \u001b[39m\u001b[34;01mboto3\u001b[39;00m\n",
      "\u001b[31mModuleNotFoundError\u001b[39m: No module named 'boto3'"
     ]
    }
   ],
   "source": [
    "import boto3"
   ]
  },
  {
   "cell_type": "code",
   "execution_count": 3,
   "id": "580e59e5",
   "metadata": {},
   "outputs": [
    {
     "ename": "ModuleNotFoundError",
     "evalue": "No module named 'boto3'",
     "output_type": "error",
     "traceback": [
      "\u001b[31m---------------------------------------------------------------------------\u001b[39m",
      "\u001b[31mModuleNotFoundError\u001b[39m                       Traceback (most recent call last)",
      "\u001b[36mCell\u001b[39m\u001b[36m \u001b[39m\u001b[32mIn[3]\u001b[39m\u001b[32m, line 1\u001b[39m\n\u001b[32m----> \u001b[39m\u001b[32m1\u001b[39m \u001b[38;5;28;01mimport\u001b[39;00m\u001b[38;5;250m \u001b[39m\u001b[34;01mboto3\u001b[39;00m\n\u001b[32m      2\u001b[39m \u001b[38;5;28;01mimport\u001b[39;00m\u001b[38;5;250m \u001b[39m\u001b[34;01mos\u001b[39;00m\n",
      "\u001b[31mModuleNotFoundError\u001b[39m: No module named 'boto3'"
     ]
    }
   ],
   "source": [
    "import boto3\n",
    "import os"
   ]
  },
  {
   "cell_type": "code",
   "execution_count": null,
   "id": "cf932f3b",
   "metadata": {},
   "outputs": [],
   "source": [
    "bucket_name = 'fkuusisto-bucket-01'\n",
    "key_name = 'testing_signed_url'\n",
    "http_method = 'put_object'\n",
    "expiration = 600  # time in seconds, default:600"
   ]
  },
  {
   "cell_type": "code",
   "execution_count": null,
   "id": "957948e9",
   "metadata": {},
   "outputs": [],
   "source": [
    "access_key = 'syRZY2c0F1Ofci4xWxQl'\n",
    "secret_key = 'DR8JjFJoJw4iL6y1nfFPPqHaQnaOjGhZHx9SzsSh'"
   ]
  },
  {
   "cell_type": "code",
   "execution_count": null,
   "id": "2458b336",
   "metadata": {},
   "outputs": [],
   "source": [
    "# Current list avaiable at https://control.cloud-object-storage.cloud.ibm.com/v2/endpoints\n",
    "cos_service_endpoint = 'https://web.s3.wisc.edu'"
   ]
  },
  {
   "cell_type": "code",
   "execution_count": null,
   "id": "7c96ecb9",
   "metadata": {},
   "outputs": [],
   "source": [
    "cos = ibm_boto3.client(\"s3\",\n",
    "                       aws_access_key_id=access_key,\n",
    "                       aws_secret_access_key=secret_key,\n",
    "                       endpoint_url=cos_service_endpoint\n",
    "                       )"
   ]
  },
  {
   "cell_type": "code",
   "execution_count": null,
   "id": "bbae54d3",
   "metadata": {},
   "outputs": [],
   "source": [
    "signedUrl = cos.generate_presigned_url(http_method, Params={\n",
    "                                       'Bucket': bucket_name, 'Key': key_name}, ExpiresIn=expiration)"
   ]
  },
  {
   "cell_type": "code",
   "execution_count": null,
   "id": "3fb2ce7b",
   "metadata": {},
   "outputs": [],
   "source": [
    "print(\"presigned upload URL =>\" + signedUrl)"
   ]
  }
 ],
 "metadata": {
  "kernelspec": {
   "display_name": "chunk-test",
   "language": "python",
   "name": "python3"
  },
  "language_info": {
   "codemirror_mode": {
    "name": "ipython",
    "version": 3
   },
   "file_extension": ".py",
   "mimetype": "text/x-python",
   "name": "python",
   "nbconvert_exporter": "python",
   "pygments_lexer": "ipython3",
   "version": "3.11.11"
  }
 },
 "nbformat": 4,
 "nbformat_minor": 5
}
